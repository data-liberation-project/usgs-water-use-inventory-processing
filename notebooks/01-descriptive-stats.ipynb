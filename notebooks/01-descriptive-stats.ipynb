{
 "cells": [
  {
   "cell_type": "markdown",
   "id": "54ab79f4-7a24-4e8d-9c3f-ee811162367a",
   "metadata": {},
   "source": [
    "# Generate descriptive statistics\n",
    "\n",
    "Also includes code for converting between measurement units."
   ]
  },
  {
   "cell_type": "markdown",
   "id": "094af1c4-3a88-458c-ba88-2f64106333b1",
   "metadata": {},
   "source": [
    "## Setup"
   ]
  },
  {
   "cell_type": "code",
   "execution_count": 1,
   "id": "fba3f681-b1b7-40a9-9c93-43c52fdbbd0d",
   "metadata": {},
   "outputs": [],
   "source": [
    "import polars as pl"
   ]
  },
  {
   "cell_type": "code",
   "execution_count": 2,
   "id": "504cddb4-e38d-4fdd-a162-f45bc7e82cc3",
   "metadata": {},
   "outputs": [],
   "source": [
    "def save(df, name):\n",
    "    df.write_csv(f\"../data/outputs/analyses/{name}.csv\")\n",
    "    return df"
   ]
  },
  {
   "cell_type": "markdown",
   "id": "59a0ba0b-e293-4b67-8ac2-2ccbd1954903",
   "metadata": {},
   "source": [
    "## Load combined records"
   ]
  },
  {
   "cell_type": "code",
   "execution_count": 3,
   "id": "f06a60b8-c7f1-4575-a335-9d19260493af",
   "metadata": {},
   "outputs": [
    {
     "data": {
      "text/plain": [
       "823552"
      ]
     },
     "execution_count": 3,
     "metadata": {},
     "output_type": "execute_result"
    }
   ],
   "source": [
    "records = pl.read_csv(\"../data/outputs/combined/records-combined.csv\", infer_schema_length=None)\n",
    "len(records)"
   ]
  },
  {
   "cell_type": "markdown",
   "id": "3d83ecb8-638e-4b64-a3f1-f8cbedec2725",
   "metadata": {},
   "source": [
    "## Count records by sheet / year"
   ]
  },
  {
   "cell_type": "code",
   "execution_count": 4,
   "id": "81379683-8c11-48c0-9a97-e9d07a48555e",
   "metadata": {},
   "outputs": [
    {
     "data": {
      "text/html": [
       "<div><style>\n",
       ".dataframe > thead > tr,\n",
       ".dataframe > tbody > tr {\n",
       "  text-align: right;\n",
       "  white-space: pre-wrap;\n",
       "}\n",
       "</style>\n",
       "<small>shape: (51, 5)</small><table border=\"1\" class=\"dataframe\"><thead><tr><th>foia_sheet</th><th>rows</th><th>num_years</th><th>latest_year</th><th>earliest_year</th></tr><tr><td>str</td><td>u32</td><td>u32</td><td>i64</td><td>i64</td></tr></thead><tbody><tr><td>&quot;Pennsylvania&quot;</td><td>95824</td><td>19</td><td>2021</td><td>2003</td></tr><tr><td>&quot;MISSING_TO_SIT…</td><td>80583</td><td>42</td><td>2020</td><td>1979</td></tr><tr><td>&quot;Missouri&quot;</td><td>79247</td><td>26</td><td>2021</td><td>1996</td></tr><tr><td>&quot;New Hampshire&quot;</td><td>67586</td><td>21</td><td>2020</td><td>2000</td></tr><tr><td>&quot;Illinois&quot;</td><td>64643</td><td>43</td><td>2020</td><td>1978</td></tr><tr><td>&hellip;</td><td>&hellip;</td><td>&hellip;</td><td>&hellip;</td><td>&hellip;</td></tr><tr><td>&quot;Kentucky&quot;</td><td>396</td><td>2</td><td>2020</td><td>2010</td></tr><tr><td>&quot;Alaska&quot;</td><td>347</td><td>1</td><td>2010</td><td>2010</td></tr><tr><td>&quot;Virginia&quot;</td><td>288</td><td>1</td><td>2010</td><td>2010</td></tr><tr><td>&quot;Nevada&quot;</td><td>144</td><td>2</td><td>2011</td><td>2010</td></tr><tr><td>&quot;Maryland&quot;</td><td>8</td><td>5</td><td>2020</td><td>2010</td></tr></tbody></table></div>"
      ],
      "text/plain": [
       "shape: (51, 5)\n",
       "┌─────────────────┬───────┬───────────┬─────────────┬───────────────┐\n",
       "│ foia_sheet      ┆ rows  ┆ num_years ┆ latest_year ┆ earliest_year │\n",
       "│ ---             ┆ ---   ┆ ---       ┆ ---         ┆ ---           │\n",
       "│ str             ┆ u32   ┆ u32       ┆ i64         ┆ i64           │\n",
       "╞═════════════════╪═══════╪═══════════╪═════════════╪═══════════════╡\n",
       "│ Pennsylvania    ┆ 95824 ┆ 19        ┆ 2021        ┆ 2003          │\n",
       "│ MISSING_TO_SITE ┆ 80583 ┆ 42        ┆ 2020        ┆ 1979          │\n",
       "│ Missouri        ┆ 79247 ┆ 26        ┆ 2021        ┆ 1996          │\n",
       "│ New Hampshire   ┆ 67586 ┆ 21        ┆ 2020        ┆ 2000          │\n",
       "│ Illinois        ┆ 64643 ┆ 43        ┆ 2020        ┆ 1978          │\n",
       "│ …               ┆ …     ┆ …         ┆ …           ┆ …             │\n",
       "│ Kentucky        ┆ 396   ┆ 2         ┆ 2020        ┆ 2010          │\n",
       "│ Alaska          ┆ 347   ┆ 1         ┆ 2010        ┆ 2010          │\n",
       "│ Virginia        ┆ 288   ┆ 1         ┆ 2010        ┆ 2010          │\n",
       "│ Nevada          ┆ 144   ┆ 2         ┆ 2011        ┆ 2010          │\n",
       "│ Maryland        ┆ 8     ┆ 5         ┆ 2020        ┆ 2010          │\n",
       "└─────────────────┴───────┴───────────┴─────────────┴───────────────┘"
      ]
     },
     "execution_count": 4,
     "metadata": {},
     "output_type": "execute_result"
    }
   ],
   "source": [
    "(\n",
    "    records\n",
    "    .group_by(\"foia_sheet\")\n",
    "    .agg(\n",
    "        pl.len().alias(\"rows\"),\n",
    "        pl.col(\"cn_qnty_yr\").n_unique().alias(\"num_years\"),\n",
    "        pl.col(\"cn_qnty_yr\").max().alias(\"latest_year\"),\n",
    "        pl.col(\"cn_qnty_yr\").min().alias(\"earliest_year\"),\n",
    "    )\n",
    "    .sort(\"rows\", descending=True)\n",
    "    .pipe(save, \"row-counts-by-sheet\")\n",
    ")"
   ]
  },
  {
   "cell_type": "code",
   "execution_count": 5,
   "id": "da55d5ef-ef85-4b9e-926b-0f3b7250dd7c",
   "metadata": {},
   "outputs": [
    {
     "data": {
      "text/html": [
       "<div><style>\n",
       ".dataframe > thead > tr,\n",
       ".dataframe > tbody > tr {\n",
       "  text-align: right;\n",
       "  white-space: pre-wrap;\n",
       "}\n",
       "</style>\n",
       "<small>shape: (8, 2)</small><table border=\"1\" class=\"dataframe\"><thead><tr><th>latest_year</th><th>count</th></tr><tr><td>i64</td><td>u32</td></tr></thead><tbody><tr><td>2010</td><td>16</td></tr><tr><td>2020</td><td>12</td></tr><tr><td>2021</td><td>11</td></tr><tr><td>2015</td><td>5</td></tr><tr><td>2019</td><td>2</td></tr><tr><td>2018</td><td>2</td></tr><tr><td>2014</td><td>1</td></tr><tr><td>2011</td><td>1</td></tr></tbody></table></div>"
      ],
      "text/plain": [
       "shape: (8, 2)\n",
       "┌─────────────┬───────┐\n",
       "│ latest_year ┆ count │\n",
       "│ ---         ┆ ---   │\n",
       "│ i64         ┆ u32   │\n",
       "╞═════════════╪═══════╡\n",
       "│ 2010        ┆ 16    │\n",
       "│ 2020        ┆ 12    │\n",
       "│ 2021        ┆ 11    │\n",
       "│ 2015        ┆ 5     │\n",
       "│ 2019        ┆ 2     │\n",
       "│ 2018        ┆ 2     │\n",
       "│ 2014        ┆ 1     │\n",
       "│ 2011        ┆ 1     │\n",
       "└─────────────┴───────┘"
      ]
     },
     "execution_count": 5,
     "metadata": {},
     "output_type": "execute_result"
    }
   ],
   "source": [
    "(\n",
    "    records\n",
    "    .filter(pl.col(\"foia_sheet\").ne(\"MISSING_TO_SITE\"))    \n",
    "    .group_by(\"foia_sheet\")\n",
    "    .agg(\n",
    "        pl.col(\"cn_qnty_yr\").max().alias(\"latest_year\"),\n",
    "    )\n",
    "    .group_by(\"latest_year\")\n",
    "    .agg(\n",
    "        pl.len().alias(\"count\")\n",
    "    )\n",
    "    .sort(\"count\", \"latest_year\", descending=True)\n",
    ")"
   ]
  },
  {
   "cell_type": "code",
   "execution_count": 6,
   "id": "222cf566-a0f7-4c4d-b36f-0f8e2fb699d4",
   "metadata": {},
   "outputs": [
    {
     "data": {
      "text/html": [
       "<div><style>\n",
       ".dataframe > thead > tr,\n",
       ".dataframe > tbody > tr {\n",
       "  text-align: right;\n",
       "  white-space: pre-wrap;\n",
       "}\n",
       "</style>\n",
       "<small>shape: (84, 3)</small><table border=\"1\" class=\"dataframe\"><thead><tr><th>cn_qnty_yr</th><th>rows</th><th>num_sheets</th></tr><tr><td>i64</td><td>u32</td><td>u32</td></tr></thead><tbody><tr><td>2021</td><td>16304</td><td>11</td></tr><tr><td>2020</td><td>34063</td><td>22</td></tr><tr><td>2019</td><td>28857</td><td>22</td></tr><tr><td>2018</td><td>30350</td><td>23</td></tr><tr><td>2017</td><td>36062</td><td>24</td></tr><tr><td>&hellip;</td><td>&hellip;</td><td>&hellip;</td></tr><tr><td>1941</td><td>3</td><td>1</td></tr><tr><td>1940</td><td>3</td><td>1</td></tr><tr><td>1939</td><td>2</td><td>1</td></tr><tr><td>1938</td><td>3</td><td>1</td></tr><tr><td>1937</td><td>3</td><td>1</td></tr></tbody></table></div>"
      ],
      "text/plain": [
       "shape: (84, 3)\n",
       "┌────────────┬───────┬────────────┐\n",
       "│ cn_qnty_yr ┆ rows  ┆ num_sheets │\n",
       "│ ---        ┆ ---   ┆ ---        │\n",
       "│ i64        ┆ u32   ┆ u32        │\n",
       "╞════════════╪═══════╪════════════╡\n",
       "│ 2021       ┆ 16304 ┆ 11         │\n",
       "│ 2020       ┆ 34063 ┆ 22         │\n",
       "│ 2019       ┆ 28857 ┆ 22         │\n",
       "│ 2018       ┆ 30350 ┆ 23         │\n",
       "│ 2017       ┆ 36062 ┆ 24         │\n",
       "│ …          ┆ …     ┆ …          │\n",
       "│ 1941       ┆ 3     ┆ 1          │\n",
       "│ 1940       ┆ 3     ┆ 1          │\n",
       "│ 1939       ┆ 2     ┆ 1          │\n",
       "│ 1938       ┆ 3     ┆ 1          │\n",
       "│ 1937       ┆ 3     ┆ 1          │\n",
       "└────────────┴───────┴────────────┘"
      ]
     },
     "execution_count": 6,
     "metadata": {},
     "output_type": "execute_result"
    }
   ],
   "source": [
    "(\n",
    "    records\n",
    "    .filter(pl.col(\"foia_sheet\").ne(\"MISSING_TO_SITE\"))\n",
    "    .group_by(\"cn_qnty_yr\")\n",
    "    .agg(\n",
    "        pl.len().alias(\"rows\"),\n",
    "        pl.col(\"foia_sheet\").n_unique().alias(\"num_sheets\")\n",
    "    )\n",
    "    .sort(\"cn_qnty_yr\", descending=True)\n",
    "    .pipe(save, \"row-counts-by-year\")\n",
    ")"
   ]
  },
  {
   "cell_type": "code",
   "execution_count": 7,
   "id": "f0d5e310-5ea3-4442-85b3-6eb637d42f92",
   "metadata": {},
   "outputs": [
    {
     "data": {
      "text/html": [
       "<div><style>\n",
       ".dataframe > thead > tr,\n",
       ".dataframe > tbody > tr {\n",
       "  text-align: right;\n",
       "  white-space: pre-wrap;\n",
       "}\n",
       "</style>\n",
       "<small>shape: (51, 23)</small><table border=\"1\" class=\"dataframe\"><thead><tr><th>foia_sheet</th><th>2021</th><th>2020</th><th>2019</th><th>2018</th><th>2017</th><th>2016</th><th>2015</th><th>2014</th><th>2013</th><th>2012</th><th>2011</th><th>2010</th><th>2009</th><th>2008</th><th>2007</th><th>2006</th><th>2005</th><th>2004</th><th>2003</th><th>2002</th><th>2001</th><th>2000</th></tr><tr><td>str</td><td>u32</td><td>u32</td><td>u32</td><td>u32</td><td>u32</td><td>u32</td><td>u32</td><td>u32</td><td>u32</td><td>u32</td><td>u32</td><td>u32</td><td>u32</td><td>u32</td><td>u32</td><td>u32</td><td>u32</td><td>u32</td><td>u32</td><td>u32</td><td>u32</td><td>u32</td></tr></thead><tbody><tr><td>&quot;Alabama&quot;</td><td>2</td><td>2</td><td>2</td><td>2</td><td>2</td><td>2</td><td>2</td><td>2</td><td>0</td><td>2</td><td>2</td><td>797</td><td>2</td><td>2</td><td>2</td><td>2</td><td>2</td><td>2</td><td>2</td><td>2</td><td>2</td><td>2</td></tr><tr><td>&quot;Alaska&quot;</td><td>0</td><td>0</td><td>0</td><td>0</td><td>0</td><td>0</td><td>0</td><td>0</td><td>0</td><td>0</td><td>0</td><td>347</td><td>0</td><td>0</td><td>0</td><td>0</td><td>0</td><td>0</td><td>0</td><td>0</td><td>0</td><td>0</td></tr><tr><td>&quot;Arizona&quot;</td><td>0</td><td>0</td><td>0</td><td>0</td><td>0</td><td>0</td><td>0</td><td>0</td><td>0</td><td>0</td><td>0</td><td>5754</td><td>0</td><td>0</td><td>0</td><td>0</td><td>0</td><td>0</td><td>0</td><td>0</td><td>0</td><td>0</td></tr><tr><td>&quot;Arkansas&quot;</td><td>0</td><td>0</td><td>0</td><td>0</td><td>0</td><td>0</td><td>0</td><td>917</td><td>988</td><td>1072</td><td>992</td><td>1400</td><td>1048</td><td>1092</td><td>1097</td><td>1121</td><td>1090</td><td>1034</td><td>1034</td><td>946</td><td>999</td><td>975</td></tr><tr><td>&quot;California&quot;</td><td>0</td><td>0</td><td>0</td><td>0</td><td>0</td><td>0</td><td>0</td><td>0</td><td>0</td><td>0</td><td>0</td><td>3845</td><td>0</td><td>0</td><td>0</td><td>0</td><td>0</td><td>0</td><td>0</td><td>0</td><td>0</td><td>0</td></tr><tr><td>&hellip;</td><td>&hellip;</td><td>&hellip;</td><td>&hellip;</td><td>&hellip;</td><td>&hellip;</td><td>&hellip;</td><td>&hellip;</td><td>&hellip;</td><td>&hellip;</td><td>&hellip;</td><td>&hellip;</td><td>&hellip;</td><td>&hellip;</td><td>&hellip;</td><td>&hellip;</td><td>&hellip;</td><td>&hellip;</td><td>&hellip;</td><td>&hellip;</td><td>&hellip;</td><td>&hellip;</td><td>&hellip;</td></tr><tr><td>&quot;Virginia&quot;</td><td>0</td><td>0</td><td>0</td><td>0</td><td>0</td><td>0</td><td>0</td><td>0</td><td>0</td><td>0</td><td>0</td><td>288</td><td>0</td><td>0</td><td>0</td><td>0</td><td>0</td><td>0</td><td>0</td><td>0</td><td>0</td><td>0</td></tr><tr><td>&quot;Washington&quot;</td><td>0</td><td>0</td><td>0</td><td>0</td><td>0</td><td>0</td><td>0</td><td>0</td><td>0</td><td>0</td><td>0</td><td>1996</td><td>0</td><td>0</td><td>0</td><td>0</td><td>12</td><td>822</td><td>854</td><td>838</td><td>834</td><td>820</td></tr><tr><td>&quot;West Virginia&quot;</td><td>8</td><td>8</td><td>8</td><td>8</td><td>8</td><td>8</td><td>7</td><td>6</td><td>10</td><td>5</td><td>4</td><td>452</td><td>0</td><td>0</td><td>0</td><td>0</td><td>0</td><td>0</td><td>0</td><td>0</td><td>0</td><td>0</td></tr><tr><td>&quot;Wisconsin&quot;</td><td>0</td><td>0</td><td>0</td><td>0</td><td>0</td><td>0</td><td>16</td><td>16</td><td>16</td><td>16</td><td>16</td><td>6084</td><td>16</td><td>16</td><td>16</td><td>16</td><td>16</td><td>16</td><td>16</td><td>16</td><td>16</td><td>17</td></tr><tr><td>&quot;Wyoming&quot;</td><td>0</td><td>0</td><td>0</td><td>0</td><td>0</td><td>0</td><td>326</td><td>0</td><td>0</td><td>0</td><td>0</td><td>328</td><td>0</td><td>0</td><td>0</td><td>0</td><td>0</td><td>0</td><td>0</td><td>0</td><td>0</td><td>0</td></tr></tbody></table></div>"
      ],
      "text/plain": [
       "shape: (51, 23)\n",
       "┌───────────────┬──────┬──────┬──────┬───┬──────┬──────┬──────┬──────┐\n",
       "│ foia_sheet    ┆ 2021 ┆ 2020 ┆ 2019 ┆ … ┆ 2003 ┆ 2002 ┆ 2001 ┆ 2000 │\n",
       "│ ---           ┆ ---  ┆ ---  ┆ ---  ┆   ┆ ---  ┆ ---  ┆ ---  ┆ ---  │\n",
       "│ str           ┆ u32  ┆ u32  ┆ u32  ┆   ┆ u32  ┆ u32  ┆ u32  ┆ u32  │\n",
       "╞═══════════════╪══════╪══════╪══════╪═══╪══════╪══════╪══════╪══════╡\n",
       "│ Alabama       ┆ 2    ┆ 2    ┆ 2    ┆ … ┆ 2    ┆ 2    ┆ 2    ┆ 2    │\n",
       "│ Alaska        ┆ 0    ┆ 0    ┆ 0    ┆ … ┆ 0    ┆ 0    ┆ 0    ┆ 0    │\n",
       "│ Arizona       ┆ 0    ┆ 0    ┆ 0    ┆ … ┆ 0    ┆ 0    ┆ 0    ┆ 0    │\n",
       "│ Arkansas      ┆ 0    ┆ 0    ┆ 0    ┆ … ┆ 1034 ┆ 946  ┆ 999  ┆ 975  │\n",
       "│ California    ┆ 0    ┆ 0    ┆ 0    ┆ … ┆ 0    ┆ 0    ┆ 0    ┆ 0    │\n",
       "│ …             ┆ …    ┆ …    ┆ …    ┆ … ┆ …    ┆ …    ┆ …    ┆ …    │\n",
       "│ Virginia      ┆ 0    ┆ 0    ┆ 0    ┆ … ┆ 0    ┆ 0    ┆ 0    ┆ 0    │\n",
       "│ Washington    ┆ 0    ┆ 0    ┆ 0    ┆ … ┆ 854  ┆ 838  ┆ 834  ┆ 820  │\n",
       "│ West Virginia ┆ 8    ┆ 8    ┆ 8    ┆ … ┆ 0    ┆ 0    ┆ 0    ┆ 0    │\n",
       "│ Wisconsin     ┆ 0    ┆ 0    ┆ 0    ┆ … ┆ 16   ┆ 16   ┆ 16   ┆ 17   │\n",
       "│ Wyoming       ┆ 0    ┆ 0    ┆ 0    ┆ … ┆ 0    ┆ 0    ┆ 0    ┆ 0    │\n",
       "└───────────────┴──────┴──────┴──────┴───┴──────┴──────┴──────┴──────┘"
      ]
     },
     "execution_count": 7,
     "metadata": {},
     "output_type": "execute_result"
    }
   ],
   "source": [
    "(\n",
    "    records\n",
    "    .filter(pl.col(\"cn_qnty_yr\").ge(2000))\n",
    "    .group_by(\"foia_sheet\", \"cn_qnty_yr\")\n",
    "    .agg(\n",
    "        pl.len().alias(\"rows\"),\n",
    "    )\n",
    "    .sort(\"cn_qnty_yr\", descending=True)\n",
    "    .pivot(\n",
    "        index=\"foia_sheet\",\n",
    "        columns=\"cn_qnty_yr\",\n",
    "        values=\"rows\",\n",
    "        maintain_order=True\n",
    "    )\n",
    "    .fill_null(0)\n",
    "    .sort(\"foia_sheet\")\n",
    "    .pipe(save, \"row-counts-by-sheet-and-year\")\n",
    ")"
   ]
  },
  {
   "cell_type": "markdown",
   "id": "648ebbb2-9674-4ab6-9a98-8d4c11f1dad5",
   "metadata": {},
   "source": [
    "## Examine redaction rates"
   ]
  },
  {
   "cell_type": "code",
   "execution_count": 8,
   "id": "b950d1f3-5305-49ae-9b27-4fd9840eed7c",
   "metadata": {},
   "outputs": [
    {
     "data": {
      "text/html": [
       "<div><style>\n",
       ".dataframe > thead > tr,\n",
       ".dataframe > tbody > tr {\n",
       "  text-align: right;\n",
       "  white-space: pre-wrap;\n",
       "}\n",
       "</style>\n",
       "<small>shape: (10, 3)</small><table border=\"1\" class=\"dataframe\"><thead><tr><th>variable</th><th>null</th><th>redacted</th></tr><tr><td>str</td><td>f64</td><td>f64</td></tr></thead><tbody><tr><td>&quot;from_lat_va&quot;</td><td>0.122732</td><td>0.889476</td></tr><tr><td>&quot;from_long_va&quot;</td><td>0.122732</td><td>0.889476</td></tr><tr><td>&quot;from_dec_lat_v…</td><td>0.122836</td><td>0.889463</td></tr><tr><td>&quot;from_dec_long_…</td><td>0.122836</td><td>0.889463</td></tr><tr><td>&quot;from_site_no&quot;</td><td>0.0</td><td>0.882239</td></tr><tr><td>&quot;from_station_n…</td><td>0.0</td><td>0.882239</td></tr><tr><td>&quot;to_site_no&quot;</td><td>0.097848</td><td>0.842226</td></tr><tr><td>&quot;to_station_nm&quot;</td><td>0.097848</td><td>0.842226</td></tr><tr><td>&quot;to_dec_lat_va&quot;</td><td>0.776393</td><td>0.689479</td></tr><tr><td>&quot;to_dec_long_va…</td><td>0.776393</td><td>0.689479</td></tr></tbody></table></div>"
      ],
      "text/plain": [
       "shape: (10, 3)\n",
       "┌──────────────────┬──────────┬──────────┐\n",
       "│ variable         ┆ null     ┆ redacted │\n",
       "│ ---              ┆ ---      ┆ ---      │\n",
       "│ str              ┆ f64      ┆ f64      │\n",
       "╞══════════════════╪══════════╪══════════╡\n",
       "│ from_lat_va      ┆ 0.122732 ┆ 0.889476 │\n",
       "│ from_long_va     ┆ 0.122732 ┆ 0.889476 │\n",
       "│ from_dec_lat_va  ┆ 0.122836 ┆ 0.889463 │\n",
       "│ from_dec_long_va ┆ 0.122836 ┆ 0.889463 │\n",
       "│ from_site_no     ┆ 0.0      ┆ 0.882239 │\n",
       "│ from_station_nm  ┆ 0.0      ┆ 0.882239 │\n",
       "│ to_site_no       ┆ 0.097848 ┆ 0.842226 │\n",
       "│ to_station_nm    ┆ 0.097848 ┆ 0.842226 │\n",
       "│ to_dec_lat_va    ┆ 0.776393 ┆ 0.689479 │\n",
       "│ to_dec_long_va   ┆ 0.776393 ┆ 0.689479 │\n",
       "└──────────────────┴──────────┴──────────┘"
      ]
     },
     "execution_count": 8,
     "metadata": {},
     "output_type": "execute_result"
    }
   ],
   "source": [
    "redaction_proportions = (\n",
    "    records\n",
    "    .melt()\n",
    "    .group_by(\"variable\")\n",
    "    .agg(\n",
    "        (\n",
    "            pl.col(\"value\")\n",
    "            .is_null()\n",
    "            .mean()\n",
    "            .alias(\"null\")\n",
    "        ),\n",
    "        (\n",
    "            pl.col(\"value\")\n",
    "            .filter(~pl.col(\"value\").is_null())\n",
    "            .str.contains(r\"^\\s*\\(b\\)\")\n",
    "            .mean()\n",
    "            .alias(\"redacted\")\n",
    "        )\n",
    "    )\n",
    "    .sort(\"variable\")\n",
    "    .pipe(save, \"column-nulls-and-redaction-proportions\")\n",
    ")\n",
    "\n",
    "(\n",
    "    redaction_proportions\n",
    "    .sort(\"redacted\", \"null\", \"variable\", descending=(True, False, False))\n",
    "    .head(10)\n",
    ")"
   ]
  },
  {
   "cell_type": "code",
   "execution_count": 9,
   "id": "4f4e632a-c1d8-4dcd-94b8-f6e7c6997c16",
   "metadata": {},
   "outputs": [
    {
     "data": {
      "text/html": [
       "<div><style>\n",
       ".dataframe > thead > tr,\n",
       ".dataframe > tbody > tr {\n",
       "  text-align: right;\n",
       "  white-space: pre-wrap;\n",
       "}\n",
       "</style>\n",
       "<small>shape: (21, 3)</small><table border=\"1\" class=\"dataframe\"><thead><tr><th>variable</th><th>null</th><th>redacted</th></tr><tr><td>str</td><td>f64</td><td>f64</td></tr></thead><tbody><tr><td>&quot;from_lat_va&quot;</td><td>0.122732</td><td>0.889476</td></tr><tr><td>&quot;from_long_va&quot;</td><td>0.122732</td><td>0.889476</td></tr><tr><td>&quot;from_dec_lat_v…</td><td>0.122836</td><td>0.889463</td></tr><tr><td>&quot;from_dec_long_…</td><td>0.122836</td><td>0.889463</td></tr><tr><td>&quot;from_site_no&quot;</td><td>0.0</td><td>0.882239</td></tr><tr><td>&hellip;</td><td>&hellip;</td><td>&hellip;</td></tr><tr><td>&quot;from_wu_site_c…</td><td>0.786751</td><td>0.027497</td></tr><tr><td>&quot;from_site_rmks…</td><td>0.480771</td><td>0.012755</td></tr><tr><td>&quot;to_wu_site_cm_…</td><td>0.929357</td><td>0.002492</td></tr><tr><td>&quot;to_site_rmks_t…</td><td>0.74171</td><td>0.000752</td></tr><tr><td>&quot;cn_qnty_cm_tx&quot;</td><td>0.592233</td><td>0.000226</td></tr></tbody></table></div>"
      ],
      "text/plain": [
       "shape: (21, 3)\n",
       "┌────────────────────┬──────────┬──────────┐\n",
       "│ variable           ┆ null     ┆ redacted │\n",
       "│ ---                ┆ ---      ┆ ---      │\n",
       "│ str                ┆ f64      ┆ f64      │\n",
       "╞════════════════════╪══════════╪══════════╡\n",
       "│ from_lat_va        ┆ 0.122732 ┆ 0.889476 │\n",
       "│ from_long_va       ┆ 0.122732 ┆ 0.889476 │\n",
       "│ from_dec_lat_va    ┆ 0.122836 ┆ 0.889463 │\n",
       "│ from_dec_long_va   ┆ 0.122836 ┆ 0.889463 │\n",
       "│ from_site_no       ┆ 0.0      ┆ 0.882239 │\n",
       "│ …                  ┆ …        ┆ …        │\n",
       "│ from_wu_site_cm_tx ┆ 0.786751 ┆ 0.027497 │\n",
       "│ from_site_rmks_tx  ┆ 0.480771 ┆ 0.012755 │\n",
       "│ to_wu_site_cm_tx   ┆ 0.929357 ┆ 0.002492 │\n",
       "│ to_site_rmks_tx    ┆ 0.74171  ┆ 0.000752 │\n",
       "│ cn_qnty_cm_tx      ┆ 0.592233 ┆ 0.000226 │\n",
       "└────────────────────┴──────────┴──────────┘"
      ]
     },
     "execution_count": 9,
     "metadata": {},
     "output_type": "execute_result"
    }
   ],
   "source": [
    "(\n",
    "    redaction_proportions\n",
    "    .filter(pl.col(\"redacted\").gt(0))\n",
    "    .sort(\"redacted\", descending=True)\n",
    "    # .filter(pl.col(\"redacted\").ge(0.1))\n",
    ")"
   ]
  },
  {
   "cell_type": "code",
   "execution_count": 10,
   "id": "1ebddd9a-f094-49a5-b644-2c34ad5be0ff",
   "metadata": {},
   "outputs": [
    {
     "data": {
      "text/html": [
       "<div><style>\n",
       ".dataframe > thead > tr,\n",
       ".dataframe > tbody > tr {\n",
       "  text-align: right;\n",
       "  white-space: pre-wrap;\n",
       "}\n",
       "</style>\n",
       "<small>shape: (265, 3)</small><table border=\"1\" class=\"dataframe\"><thead><tr><th>variable</th><th>num_distinct</th><th>example</th></tr><tr><td>str</td><td>u32</td><td>str</td></tr></thead><tbody><tr><td>&quot;accuracy_cd&quot;</td><td>5</td><td>&quot;N&quot;</td></tr><tr><td>&quot;cn_cap_sg&quot;</td><td>7</td><td>&quot;2&quot;</td></tr><tr><td>&quot;cn_cap_va&quot;</td><td>961</td><td>&quot;60.0&quot;</td></tr><tr><td>&quot;cn_cd&quot;</td><td>5</td><td>&quot;PI&quot;</td></tr><tr><td>&quot;cn_cn&quot;</td><td>55</td><td>&quot;slawrenc&quot;</td></tr><tr><td>&hellip;</td><td>&hellip;</td><td>&hellip;</td></tr><tr><td>&quot;to_wu_site_mn&quot;</td><td>56</td><td>&quot;slawrenc&quot;</td></tr><tr><td>&quot;to_zip_cd&quot;</td><td>207</td><td>&quot;30901&quot;</td></tr><tr><td>&quot;water_cd&quot;</td><td>8</td><td>&quot;SW&quot;</td></tr><tr><td>&quot;water_nm&quot;</td><td>8</td><td>&quot;Surface Water&quot;</td></tr><tr><td>&quot;yr_unit_abbrv_…</td><td>10</td><td>&quot;Mgal/d&quot;</td></tr></tbody></table></div>"
      ],
      "text/plain": [
       "shape: (265, 3)\n",
       "┌──────────────────┬──────────────┬───────────────┐\n",
       "│ variable         ┆ num_distinct ┆ example       │\n",
       "│ ---              ┆ ---          ┆ ---           │\n",
       "│ str              ┆ u32          ┆ str           │\n",
       "╞══════════════════╪══════════════╪═══════════════╡\n",
       "│ accuracy_cd      ┆ 5            ┆ N             │\n",
       "│ cn_cap_sg        ┆ 7            ┆ 2             │\n",
       "│ cn_cap_va        ┆ 961          ┆ 60.0          │\n",
       "│ cn_cd            ┆ 5            ┆ PI            │\n",
       "│ cn_cn            ┆ 55           ┆ slawrenc      │\n",
       "│ …                ┆ …            ┆ …             │\n",
       "│ to_wu_site_mn    ┆ 56           ┆ slawrenc      │\n",
       "│ to_zip_cd        ┆ 207          ┆ 30901         │\n",
       "│ water_cd         ┆ 8            ┆ SW            │\n",
       "│ water_nm         ┆ 8            ┆ Surface Water │\n",
       "│ yr_unit_abbrv_tx ┆ 10           ┆ Mgal/d        │\n",
       "└──────────────────┴──────────────┴───────────────┘"
      ]
     },
     "execution_count": 10,
     "metadata": {},
     "output_type": "execute_result"
    }
   ],
   "source": [
    "(\n",
    "    records\n",
    "    .melt()    \n",
    "    .filter(~pl.col(\"value\").is_null())\n",
    "    .filter(~pl.col(\"value\").str.contains(r\"^\\s*\\(b\\)\"))\n",
    "    .group_by(\"variable\")\n",
    "    .agg(\n",
    "        (\n",
    "            pl.col(\"value\")\n",
    "            .n_unique()\n",
    "            .alias(\"num_distinct\")\n",
    "        ),\n",
    "        (\n",
    "            pl.col(\"value\")\n",
    "            .first()\n",
    "            .alias(\"example\")\n",
    "        ),\n",
    "    )\n",
    "    .sort(\"variable\")\n",
    "    .pipe(save, \"column-distinct-counts\")\n",
    ")"
   ]
  },
  {
   "cell_type": "markdown",
   "id": "b9d2348b-e737-4f51-9c98-b69b72099494",
   "metadata": {},
   "source": [
    "## Examine reliability codes"
   ]
  },
  {
   "cell_type": "code",
   "execution_count": 11,
   "id": "cb8d4889-1cb4-4d4b-82a3-a496445ddd4b",
   "metadata": {},
   "outputs": [
    {
     "data": {
      "text/html": [
       "<div><style>\n",
       ".dataframe > thead > tr,\n",
       ".dataframe > tbody > tr {\n",
       "  text-align: right;\n",
       "  white-space: pre-wrap;\n",
       "}\n",
       "</style>\n",
       "<small>shape: (4, 3)</small><table border=\"1\" class=\"dataframe\"><thead><tr><th>Code</th><th>Name</th><th>Description</th></tr><tr><td>str</td><td>str</td><td>str</td></tr></thead><tbody><tr><td>&quot;C&quot;</td><td>&quot;Checked&quot;</td><td>&quot;Data have been…</td></tr><tr><td>&quot;L&quot;</td><td>&quot;Poor location&quot;</td><td>&quot;Location not a…</td></tr><tr><td>&quot;M&quot;</td><td>&quot;Minimal&quot;</td><td>&quot;Minimal data.&quot;</td></tr><tr><td>&quot;U&quot;</td><td>&quot;Unchecked&quot;</td><td>&quot;Unchecked data…</td></tr></tbody></table></div>"
      ],
      "text/plain": [
       "shape: (4, 3)\n",
       "┌──────┬───────────────┬───────────────────────────────────┐\n",
       "│ Code ┆ Name          ┆ Description                       │\n",
       "│ ---  ┆ ---           ┆ ---                               │\n",
       "│ str  ┆ str           ┆ str                               │\n",
       "╞══════╪═══════════════╪═══════════════════════════════════╡\n",
       "│ C    ┆ Checked       ┆ Data have been checked by the re… │\n",
       "│ L    ┆ Poor location ┆ Location not accurate.            │\n",
       "│ M    ┆ Minimal       ┆ Minimal data.                     │\n",
       "│ U    ┆ Unchecked     ┆ Unchecked data.                   │\n",
       "└──────┴───────────────┴───────────────────────────────────┘"
      ]
     },
     "execution_count": 11,
     "metadata": {},
     "output_type": "execute_result"
    }
   ],
   "source": [
    "reliability_codes = (\n",
    "    pl.read_excel(\n",
    "        \"../data/raw/dictionary/DataDictionary.xlsx\",\n",
    "        sheet_name=\"DATA RELIABILITY CODE\",\n",
    "        read_options={'skip_rows': 4},\n",
    "    )\n",
    ")\n",
    "reliability_codes"
   ]
  },
  {
   "cell_type": "code",
   "execution_count": 12,
   "id": "0f0e127d-5a28-4312-9327-f8e0a3614459",
   "metadata": {},
   "outputs": [
    {
     "data": {
      "text/html": [
       "<div><style>\n",
       ".dataframe > thead > tr,\n",
       ".dataframe > tbody > tr {\n",
       "  text-align: right;\n",
       "  white-space: pre-wrap;\n",
       "}\n",
       "</style>\n",
       "<small>shape: (4, 5)</small><table border=\"1\" class=\"dataframe\"><thead><tr><th>Code</th><th>from_reliability_cd</th><th>to_reliability_cd</th><th>Name</th><th>Description</th></tr><tr><td>str</td><td>u32</td><td>u32</td><td>str</td><td>str</td></tr></thead><tbody><tr><td>&quot;C&quot;</td><td>191842</td><td>41735</td><td>&quot;Checked&quot;</td><td>&quot;Data have been…</td></tr><tr><td>&quot;L&quot;</td><td>1350</td><td>0</td><td>&quot;Poor location&quot;</td><td>&quot;Location not a…</td></tr><tr><td>&quot;M&quot;</td><td>19211</td><td>5090</td><td>&quot;Minimal&quot;</td><td>&quot;Minimal data.&quot;</td></tr><tr><td>&quot;U&quot;</td><td>480179</td><td>554941</td><td>&quot;Unchecked&quot;</td><td>&quot;Unchecked data…</td></tr></tbody></table></div>"
      ],
      "text/plain": [
       "shape: (4, 5)\n",
       "┌──────┬─────────────────────┬───────────────────┬───────────────┬─────────────────────────────────┐\n",
       "│ Code ┆ from_reliability_cd ┆ to_reliability_cd ┆ Name          ┆ Description                     │\n",
       "│ ---  ┆ ---                 ┆ ---               ┆ ---           ┆ ---                             │\n",
       "│ str  ┆ u32                 ┆ u32               ┆ str           ┆ str                             │\n",
       "╞══════╪═════════════════════╪═══════════════════╪═══════════════╪═════════════════════════════════╡\n",
       "│ C    ┆ 191842              ┆ 41735             ┆ Checked       ┆ Data have been checked by the   │\n",
       "│      ┆                     ┆                   ┆               ┆ re…                             │\n",
       "│ L    ┆ 1350                ┆ 0                 ┆ Poor location ┆ Location not accurate.          │\n",
       "│ M    ┆ 19211               ┆ 5090              ┆ Minimal       ┆ Minimal data.                   │\n",
       "│ U    ┆ 480179              ┆ 554941            ┆ Unchecked     ┆ Unchecked data.                 │\n",
       "└──────┴─────────────────────┴───────────────────┴───────────────┴─────────────────────────────────┘"
      ]
     },
     "execution_count": 12,
     "metadata": {},
     "output_type": "execute_result"
    }
   ],
   "source": [
    "(\n",
    "    records\n",
    "    .select(\"from_reliability_cd\", \"to_reliability_cd\")\n",
    "    .melt(value_name = \"Code\")\n",
    "    .group_by(\"variable\", \"Code\")\n",
    "    .agg(pl.len().alias(\"count\"))\n",
    "    .sort(\"Code\", \"variable\")\n",
    "    .pivot(\n",
    "        index=\"Code\",\n",
    "        columns=\"variable\",\n",
    "        values=\"count\",\n",
    "    )\n",
    "    .fill_null(0)\n",
    "    .join(reliability_codes, on = \"Code\")\n",
    "    .pipe(save, \"reliability-codes\")\n",
    ")"
   ]
  },
  {
   "cell_type": "markdown",
   "id": "11b929ca-8f81-4f3b-90bf-0874c0e2911b",
   "metadata": {},
   "source": [
    "## Count distinct measurement units used"
   ]
  },
  {
   "cell_type": "code",
   "execution_count": 13,
   "id": "8b0c4a8f-c4b3-4c9c-93aa-973567e8bb6e",
   "metadata": {},
   "outputs": [
    {
     "data": {
      "text/html": [
       "<div><style>\n",
       ".dataframe > thead > tr,\n",
       ".dataframe > tbody > tr {\n",
       "  text-align: right;\n",
       "  white-space: pre-wrap;\n",
       "}\n",
       "</style>\n",
       "<small>shape: (210, 3)</small><table border=\"1\" class=\"dataframe\"><thead><tr><th>foia_sheet</th><th>cn_qnty_yr</th><th>distinct_units</th></tr><tr><td>str</td><td>i64</td><td>u32</td></tr></thead><tbody><tr><td>&quot;California&quot;</td><td>2010</td><td>6</td></tr><tr><td>&quot;Colorado&quot;</td><td>2010</td><td>5</td></tr><tr><td>&quot;Oklahoma&quot;</td><td>2010</td><td>4</td></tr><tr><td>&quot;New Mexico&quot;</td><td>2010</td><td>4</td></tr><tr><td>&quot;MISSING_TO_SIT…</td><td>2005</td><td>4</td></tr><tr><td>&hellip;</td><td>&hellip;</td><td>&hellip;</td></tr><tr><td>&quot;Louisiana&quot;</td><td>2001</td><td>2</td></tr><tr><td>&quot;Georgia&quot;</td><td>2001</td><td>2</td></tr><tr><td>&quot;Missouri&quot;</td><td>2000</td><td>2</td></tr><tr><td>&quot;Louisiana&quot;</td><td>2000</td><td>2</td></tr><tr><td>&quot;Georgia&quot;</td><td>2000</td><td>2</td></tr></tbody></table></div>"
      ],
      "text/plain": [
       "shape: (210, 3)\n",
       "┌─────────────────┬────────────┬────────────────┐\n",
       "│ foia_sheet      ┆ cn_qnty_yr ┆ distinct_units │\n",
       "│ ---             ┆ ---        ┆ ---            │\n",
       "│ str             ┆ i64        ┆ u32            │\n",
       "╞═════════════════╪════════════╪════════════════╡\n",
       "│ California      ┆ 2010       ┆ 6              │\n",
       "│ Colorado        ┆ 2010       ┆ 5              │\n",
       "│ Oklahoma        ┆ 2010       ┆ 4              │\n",
       "│ New Mexico      ┆ 2010       ┆ 4              │\n",
       "│ MISSING_TO_SITE ┆ 2005       ┆ 4              │\n",
       "│ …               ┆ …          ┆ …              │\n",
       "│ Louisiana       ┆ 2001       ┆ 2              │\n",
       "│ Georgia         ┆ 2001       ┆ 2              │\n",
       "│ Missouri        ┆ 2000       ┆ 2              │\n",
       "│ Louisiana       ┆ 2000       ┆ 2              │\n",
       "│ Georgia         ┆ 2000       ┆ 2              │\n",
       "└─────────────────┴────────────┴────────────────┘"
      ]
     },
     "execution_count": 13,
     "metadata": {},
     "output_type": "execute_result"
    }
   ],
   "source": [
    "(\n",
    "    records\n",
    "    .filter(pl.col(\"cn_qnty_yr\").ge(2000))\n",
    "    .group_by(\"foia_sheet\", \"cn_qnty_yr\")\n",
    "    .agg(\n",
    "        pl.col(\"mo_unit_abbrv_tx\").n_unique().alias(\"distinct_units\"),\n",
    "    )\n",
    "    .filter(pl.col(\"distinct_units\").gt(1))\n",
    "    .sort(\"distinct_units\", \"cn_qnty_yr\", \"foia_sheet\", descending=True)\n",
    ")"
   ]
  },
  {
   "cell_type": "markdown",
   "id": "d8e19b60-e53e-4bd4-9f23-c50291ea3466",
   "metadata": {},
   "source": [
    "## Look for outliers"
   ]
  },
  {
   "cell_type": "code",
   "execution_count": 14,
   "id": "36135b11-212c-4720-b0c8-003ea61ad5ce",
   "metadata": {},
   "outputs": [
    {
     "data": {
      "text/html": [
       "<div><style>\n",
       ".dataframe > thead > tr,\n",
       ".dataframe > tbody > tr {\n",
       "  text-align: right;\n",
       "  white-space: pre-wrap;\n",
       "}\n",
       "</style>\n",
       "<small>shape: (9, 4)</small><table border=\"1\" class=\"dataframe\"><thead><tr><th>unit</th><th>desc</th><th>coef_m3</th><th>coef_acre_feet</th></tr><tr><td>str</td><td>str</td><td>f64</td><td>f64</td></tr></thead><tbody><tr><td>&quot;acre-inch&quot;</td><td>&quot;acre-inch&quot;</td><td>102.790153</td><td>0.083333</td></tr><tr><td>&quot;acre-feet&quot;</td><td>&quot;acre-feet&quot;</td><td>1233.481837</td><td>1.0</td></tr><tr><td>&quot;Tacre-feet&quot;</td><td>&quot;thousand acre-…</td><td>1.2335e6</td><td>1000.0</td></tr><tr><td>&quot;gal&quot;</td><td>&quot;gallons&quot;</td><td>0.003785</td><td>0.000003</td></tr><tr><td>&quot;Tgal&quot;</td><td>&quot;thousand gallo…</td><td>3.785412</td><td>0.003069</td></tr><tr><td>&quot;Mgal&quot;</td><td>&quot;million gallon…</td><td>3785.411784</td><td>3.068883</td></tr><tr><td>&quot;bbl&quot;</td><td>&quot;barrels (42 ga…</td><td>0.158987</td><td>0.000129</td></tr><tr><td>&quot;cf&quot;</td><td>&quot;cubic feet&quot;</td><td>0.028317</td><td>0.000023</td></tr><tr><td>&quot;Tcf&quot;</td><td>&quot;thousand cubic…</td><td>28.316847</td><td>0.022957</td></tr></tbody></table></div>"
      ],
      "text/plain": [
       "shape: (9, 4)\n",
       "┌────────────┬──────────────────────┬─────────────┬────────────────┐\n",
       "│ unit       ┆ desc                 ┆ coef_m3     ┆ coef_acre_feet │\n",
       "│ ---        ┆ ---                  ┆ ---         ┆ ---            │\n",
       "│ str        ┆ str                  ┆ f64         ┆ f64            │\n",
       "╞════════════╪══════════════════════╪═════════════╪════════════════╡\n",
       "│ acre-inch  ┆ acre-inch            ┆ 102.790153  ┆ 0.083333       │\n",
       "│ acre-feet  ┆ acre-feet            ┆ 1233.481837 ┆ 1.0            │\n",
       "│ Tacre-feet ┆ thousand acre-feet   ┆ 1.2335e6    ┆ 1000.0         │\n",
       "│ gal        ┆ gallons              ┆ 0.003785    ┆ 0.000003       │\n",
       "│ Tgal       ┆ thousand gallons     ┆ 3.785412    ┆ 0.003069       │\n",
       "│ Mgal       ┆ million gallons      ┆ 3785.411784 ┆ 3.068883       │\n",
       "│ bbl        ┆ barrels (42 gallons) ┆ 0.158987    ┆ 0.000129       │\n",
       "│ cf         ┆ cubic feet           ┆ 0.028317    ┆ 0.000023       │\n",
       "│ Tcf        ┆ thousand cubic feet  ┆ 28.316847   ┆ 0.022957       │\n",
       "└────────────┴──────────────────────┴─────────────┴────────────────┘"
      ]
     },
     "execution_count": 14,
     "metadata": {},
     "output_type": "execute_result"
    }
   ],
   "source": [
    "unit_conversions = pl.read_csv(\"../data/manual/unit-conversions.csv\")\n",
    "unit_conversions"
   ]
  },
  {
   "cell_type": "code",
   "execution_count": 15,
   "id": "7c927ece-b4a3-48ed-adad-34f286bf211c",
   "metadata": {},
   "outputs": [
    {
     "data": {
      "text/plain": [
       "{'acre-inch': 0.0833333333,\n",
       " 'acre-feet': 1.0,\n",
       " 'Tacre-feet': 1000.0,\n",
       " 'gal': 3.0689e-06,\n",
       " 'Tgal': 0.0030688833,\n",
       " 'Mgal': 3.0688832772,\n",
       " 'bbl': 0.0001288931,\n",
       " 'cf': 2.29568e-05,\n",
       " 'Tcf': 0.0229568411}"
      ]
     },
     "execution_count": 15,
     "metadata": {},
     "output_type": "execute_result"
    }
   ],
   "source": [
    "unit_to_acre_feet = dict(unit_conversions.select(\"unit\", \"coef_acre_feet\").rows())\n",
    "unit_to_acre_feet"
   ]
  },
  {
   "cell_type": "code",
   "execution_count": 16,
   "id": "d898b037-135b-41a6-96f7-3319894ae001",
   "metadata": {},
   "outputs": [],
   "source": [
    "def with_unit_conversion(df):\n",
    "    return (\n",
    "        df\n",
    "        .with_columns(\n",
    "            pl.col(\"yr_unit_abbrv_tx\").str.extract(r\"^([^/]+)\").alias(\"unit_volume\"),\n",
    "            pl.col(\"yr_unit_abbrv_tx\").str.extract(r\"/([^/]+)\").alias(\"unit_time\"),\n",
    "        )\n",
    "        .with_columns(\n",
    "            pl.col(\"unit_volume\").replace(unit_to_acre_feet).cast(float),\n",
    "            pl.col(\"unit_time\").replace({\n",
    "                \"yr\": 1,\n",
    "                \"m\": 12,\n",
    "                \"d\": 365,\n",
    "            }).cast(int),\n",
    "        )\n",
    "        .with_columns(\n",
    "            (pl.col(\"unit_volume\") * pl.col(\"unit_time\")).alias(\"coef_acre_feet_yr\")\n",
    "        )\n",
    "        .with_columns(\n",
    "            (pl.col(\"cn_qnty_yr_va\") * pl.col(\"coef_acre_feet_yr\")).alias(\"cn_qnty_acre_feet_yr\")\n",
    "        )        \n",
    "    )"
   ]
  },
  {
   "cell_type": "code",
   "execution_count": 17,
   "id": "ff4cbfa7-77c6-4423-949a-37d6a0788acb",
   "metadata": {},
   "outputs": [
    {
     "data": {
      "text/html": [
       "<div><style>\n",
       ".dataframe > thead > tr,\n",
       ".dataframe > tbody > tr {\n",
       "  text-align: right;\n",
       "  white-space: pre-wrap;\n",
       "}\n",
       "</style>\n",
       "<small>shape: (10, 274)</small><table border=\"1\" class=\"dataframe\"><thead><tr><th>foia_sheet</th><th>from_agency_cd</th><th>from_site_no</th><th>from_party_alias_nm</th><th>from_permit_cd</th><th>from_permit_tx</th><th>from_site_contact_nu</th><th>from_site_contact_alias_nm</th><th>from_site_contact_start_dt</th><th>from_site_contact_end_dt</th><th>from_site_contact_cn</th><th>from_site_contact_cr</th><th>from_site_contact_mn</th><th>from_site_owner_nu</th><th>from_site_owner_alias_nm</th><th>from_site_owner_cd</th><th>from_site_owner_start_dt</th><th>from_site_owner_end_dt</th><th>from_contact_party_alias_nm</th><th>from_site_owner_cn</th><th>from_site_owner_cr</th><th>from_site_owner_mn</th><th>from_site_owner_md</th><th>from_naics_cd</th><th>from_naics_ds</th><th>from_accs_cd</th><th>from_sic_cd</th><th>from_surface_water_cd</th><th>from_surface_water_nm</th><th>from_wu_site_cn</th><th>from_wu_site_cr</th><th>from_wu_site_mn</th><th>from_wu_site_md</th><th>from_wu_site_cm_tx</th><th>from_wu_site_cm_cn</th><th>from_wu_site_cm_cr</th><th>from_wu_site_cm_mn</th><th>&hellip;</th><th>cn_qnty_yr_nat_water_use_cd</th><th>cn_qnty_party_alias_nm</th><th>cn_qnty_yr</th><th>cn_qnty_pub_dt</th><th>cn_qnty_pf_fg</th><th>accuracy_cd</th><th>data_aging_cd</th><th>cn_qnty_cn</th><th>cn_qnty_cr</th><th>cn_qnty_cm_tx</th><th>cn_qnty_yr_va</th><th>cn_qnty_yr_fg</th><th>yr_unit_abbrv_tx</th><th>mo_unit_abbrv_tx</th><th>cn_qnty_yr_cn</th><th>cn_qnty_yr_cr</th><th>cn_qnty_yr_mn</th><th>cn_qnty_yr_md</th><th>cn_qnty_yr_depr_fg</th><th>cn_qnty_mo_nat_water_use_cd</th><th>cn_qnty_mo_depr_fg</th><th>cn_qnty_mo_va1</th><th>cn_qnty_mo_va2</th><th>cn_qnty_mo_va3</th><th>cn_qnty_mo_va4</th><th>cn_qnty_mo_va5</th><th>cn_qnty_mo_va6</th><th>cn_qnty_mo_va7</th><th>cn_qnty_mo_va8</th><th>cn_qnty_mo_va9</th><th>cn_qnty_mo_va10</th><th>cn_qnty_mo_va11</th><th>cn_qnty_mo_va12</th><th>unit_volume</th><th>unit_time</th><th>coef_acre_feet_yr</th><th>cn_qnty_acre_feet_yr</th></tr><tr><td>str</td><td>str</td><td>str</td><td>str</td><td>str</td><td>str</td><td>i64</td><td>str</td><td>i64</td><td>i64</td><td>str</td><td>str</td><td>str</td><td>i64</td><td>str</td><td>str</td><td>i64</td><td>i64</td><td>str</td><td>str</td><td>str</td><td>str</td><td>str</td><td>i64</td><td>str</td><td>i64</td><td>i64</td><td>str</td><td>str</td><td>str</td><td>str</td><td>str</td><td>str</td><td>str</td><td>str</td><td>str</td><td>str</td><td>&hellip;</td><td>str</td><td>str</td><td>i64</td><td>str</td><td>str</td><td>str</td><td>str</td><td>str</td><td>str</td><td>str</td><td>f64</td><td>str</td><td>str</td><td>str</td><td>str</td><td>str</td><td>str</td><td>str</td><td>str</td><td>str</td><td>str</td><td>f64</td><td>f64</td><td>f64</td><td>f64</td><td>f64</td><td>f64</td><td>f64</td><td>f64</td><td>f64</td><td>f64</td><td>f64</td><td>f64</td><td>f64</td><td>i64</td><td>f64</td><td>f64</td></tr></thead><tbody><tr><td>&quot;Colorado&quot;</td><td>&quot;USEPA&quot;</td><td>&quot;(b) (7)(F)&quot;</td><td>&quot;USEPA&quot;</td><td>&quot;EPWS&quot;</td><td>&quot;CO0101055&quot;</td><td>null</td><td>null</td><td>null</td><td>null</td><td>null</td><td>null</td><td>null</td><td>1</td><td>&quot;FEDERAL HEIGHT…</td><td>&quot;WS&quot;</td><td>null</td><td>null</td><td>null</td><td>&quot;tkrizman&quot;</td><td>&quot;09-OCT-15 04.4…</td><td>&quot;tkrizman&quot;</td><td>&quot;09-OCT-15 04.4…</td><td>221310</td><td>&quot;Water Supply a…</td><td>3</td><td>null</td><td>null</td><td>null</td><td>&quot;ivahnenk&quot;</td><td>&quot;13-MAR-13 09.1…</td><td>&quot;ivahnenk&quot;</td><td>&quot;13-MAR-13 09.1…</td><td>null</td><td>null</td><td>null</td><td>null</td><td>&hellip;</td><td>&quot;WS&quot;</td><td>&quot;USGS&quot;</td><td>2010</td><td>null</td><td>&quot;Y&quot;</td><td>&quot;N&quot;</td><td>&quot;O&quot;</td><td>&quot;ldmiller&quot;</td><td>&quot;22-OCT-15 09.3…</td><td>null</td><td>3.25e8</td><td>&quot;N&quot;</td><td>&quot;Mgal/yr&quot;</td><td>null</td><td>&quot;ldmiller&quot;</td><td>&quot;10/22/15 09:31…</td><td>&quot;ldmiller&quot;</td><td>&quot;22-MAY-17 07.3…</td><td>&quot;N&quot;</td><td>null</td><td>null</td><td>null</td><td>null</td><td>null</td><td>null</td><td>null</td><td>null</td><td>null</td><td>null</td><td>null</td><td>null</td><td>null</td><td>null</td><td>3.068883</td><td>1</td><td>3.068883</td><td>9.9739e8</td></tr><tr><td>&quot;Georgia&quot;</td><td>&quot;USGS&quot;</td><td>&quot;31504008356000…</td><td>&quot;GA009&quot;</td><td>&quot;ALLC&quot;</td><td>&quot;159-1112-02&quot;</td><td>null</td><td>null</td><td>null</td><td>null</td><td>null</td><td>null</td><td>null</td><td>1</td><td>&quot;CRISP COUNTY P…</td><td>&quot;GV&quot;</td><td>null</td><td>null</td><td>null</td><td>&quot;slawrenc&quot;</td><td>&quot;24-APR-12 04.1…</td><td>&quot;slawrenc&quot;</td><td>&quot;24-APR-12 04.1…</td><td>221111</td><td>&quot;Hydroelectric …</td><td>3</td><td>4911</td><td>&quot;LK&quot;</td><td>&quot;LAKE BLACKSHEA…</td><td>&quot;slawrenc&quot;</td><td>&quot;24-APR-12 04.0…</td><td>&quot;slawrenc&quot;</td><td>&quot;24-APR-12 04.0…</td><td>null</td><td>null</td><td>null</td><td>null</td><td>&hellip;</td><td>&quot;PH&quot;</td><td>&quot;GA009&quot;</td><td>2004</td><td>null</td><td>&quot;Y&quot;</td><td>&quot;N&quot;</td><td>&quot;W&quot;</td><td>&quot;slawrenc&quot;</td><td>&quot;08-JAN-16 02.4…</td><td>null</td><td>22345.0</td><td>&quot;N&quot;</td><td>&quot;Mgal/d&quot;</td><td>&quot;Mgal/d&quot;</td><td>&quot;slawrenc&quot;</td><td>&quot;01/08/16 02:41…</td><td>&quot;slawrenc&quot;</td><td>&quot;08-JAN-16 02.4…</td><td>&quot;N&quot;</td><td>&quot;PH&quot;</td><td>&quot;N&quot;</td><td>1842.0</td><td>3500.0</td><td>2048.0</td><td>1452.0</td><td>1232.0</td><td>1254.0</td><td>1067.0</td><td>689.0</td><td>2766.0</td><td>2270.0</td><td>2319.0</td><td>1906.0</td><td>3.068883</td><td>365</td><td>1120.142396</td><td>2.5030e7</td></tr><tr><td>&quot;South Dakota&quot;</td><td>&quot;USGS&quot;</td><td>&quot;94600000099900…</td><td>null</td><td>null</td><td>null</td><td>null</td><td>null</td><td>null</td><td>null</td><td>null</td><td>null</td><td>null</td><td>null</td><td>null</td><td>null</td><td>null</td><td>null</td><td>null</td><td>null</td><td>null</td><td>null</td><td>null</td><td>null</td><td>null</td><td>3</td><td>4911</td><td>null</td><td>null</td><td>&quot;jnawyn&quot;</td><td>&quot;27-SEP-06 01.3…</td><td>&quot;jnawyn&quot;</td><td>&quot;02-OCT-06 01.5…</td><td>null</td><td>null</td><td>null</td><td>null</td><td>&hellip;</td><td>&quot;PH&quot;</td><td>&quot;USCE&quot;</td><td>2010</td><td>null</td><td>&quot;Y&quot;</td><td>&quot;G&quot;</td><td>&quot;W&quot;</td><td>&quot;lleaderc&quot;</td><td>&quot;19-AUG-13 02.4…</td><td>&quot;MGD&quot;</td><td>19352.8394</td><td>&quot;N&quot;</td><td>&quot;Mgal/d&quot;</td><td>&quot;Mgal/d&quot;</td><td>&quot;lleaderc&quot;</td><td>&quot;08/19/13 02:40…</td><td>&quot;lleaderc&quot;</td><td>&quot;19-AUG-13 02.4…</td><td>&quot;N&quot;</td><td>&quot;PH&quot;</td><td>&quot;N&quot;</td><td>437.0</td><td>372.0</td><td>412.0</td><td>407.0</td><td>692.0</td><td>736.0</td><td>961.0</td><td>1152.0</td><td>1252.0</td><td>1339.0</td><td>1226.0</td><td>691.0</td><td>3.068883</td><td>365</td><td>1120.142396</td><td>2.1678e7</td></tr><tr><td>&quot;South Dakota&quot;</td><td>&quot;USGS&quot;</td><td>&quot;94680000998834…</td><td>null</td><td>null</td><td>null</td><td>null</td><td>null</td><td>null</td><td>null</td><td>null</td><td>null</td><td>null</td><td>null</td><td>null</td><td>null</td><td>null</td><td>null</td><td>null</td><td>null</td><td>null</td><td>null</td><td>null</td><td>null</td><td>null</td><td>3</td><td>4911</td><td>null</td><td>null</td><td>&quot;jnawyn&quot;</td><td>&quot;27-SEP-06 01.2…</td><td>&quot;jnawyn&quot;</td><td>&quot;27-SEP-06 01.2…</td><td>&quot;MISSOURI RIVER…</td><td>&quot;jnawyn&quot;</td><td>&quot;27-SEP-06 01.2…</td><td>&quot;jnawyn&quot;</td><td>&hellip;</td><td>&quot;PH&quot;</td><td>&quot;USCE&quot;</td><td>2010</td><td>null</td><td>&quot;Y&quot;</td><td>&quot;G&quot;</td><td>&quot;W&quot;</td><td>&quot;lleaderc&quot;</td><td>&quot;19-AUG-13 02.4…</td><td>&quot;MGD&quot;</td><td>19352.8394</td><td>&quot;N&quot;</td><td>&quot;Mgal/d&quot;</td><td>&quot;Mgal/d&quot;</td><td>&quot;lleaderc&quot;</td><td>&quot;08/19/13 02:40…</td><td>&quot;lleaderc&quot;</td><td>&quot;19-AUG-13 02.4…</td><td>&quot;N&quot;</td><td>&quot;PH&quot;</td><td>&quot;N&quot;</td><td>437.0</td><td>372.0</td><td>412.0</td><td>407.0</td><td>692.0</td><td>736.0</td><td>961.0</td><td>1152.0</td><td>1252.0</td><td>1339.0</td><td>1226.0</td><td>691.0</td><td>3.068883</td><td>365</td><td>1120.142396</td><td>2.1678e7</td></tr><tr><td>&quot;South Dakota&quot;</td><td>&quot;USGS&quot;</td><td>&quot;94600000099900…</td><td>null</td><td>null</td><td>null</td><td>null</td><td>null</td><td>null</td><td>null</td><td>null</td><td>null</td><td>null</td><td>null</td><td>null</td><td>null</td><td>null</td><td>null</td><td>null</td><td>null</td><td>null</td><td>null</td><td>null</td><td>null</td><td>null</td><td>3</td><td>4911</td><td>null</td><td>null</td><td>&quot;jnawyn&quot;</td><td>&quot;26-SEP-06 11.5…</td><td>&quot;jnawyn&quot;</td><td>&quot;02-OCT-06 01.5…</td><td>null</td><td>null</td><td>null</td><td>null</td><td>&hellip;</td><td>&quot;PH&quot;</td><td>&quot;USCE&quot;</td><td>2010</td><td>null</td><td>&quot;Y&quot;</td><td>&quot;G&quot;</td><td>&quot;W&quot;</td><td>&quot;lleaderc&quot;</td><td>&quot;19-AUG-13 02.4…</td><td>&quot;MGD&quot;</td><td>17176.33684</td><td>&quot;N&quot;</td><td>&quot;Mgal/d&quot;</td><td>&quot;Mgal/d&quot;</td><td>&quot;lleaderc&quot;</td><td>&quot;08/19/13 02:40…</td><td>&quot;lleaderc&quot;</td><td>&quot;19-AUG-13 02.4…</td><td>&quot;N&quot;</td><td>&quot;PH&quot;</td><td>&quot;N&quot;</td><td>777.0</td><td>575.0</td><td>375.0</td><td>663.0</td><td>1252.0</td><td>999.0</td><td>1743.0</td><td>2245.0</td><td>2382.0</td><td>2584.0</td><td>2331.0</td><td>1251.0</td><td>3.068883</td><td>365</td><td>1120.142396</td><td>1.9240e7</td></tr><tr><td>&quot;South Dakota&quot;</td><td>&quot;USGS&quot;</td><td>&quot;94680000998834…</td><td>null</td><td>null</td><td>null</td><td>null</td><td>null</td><td>null</td><td>null</td><td>null</td><td>null</td><td>null</td><td>null</td><td>null</td><td>null</td><td>null</td><td>null</td><td>null</td><td>null</td><td>null</td><td>null</td><td>null</td><td>null</td><td>null</td><td>3</td><td>4911</td><td>null</td><td>null</td><td>&quot;jnawyn&quot;</td><td>&quot;26-SEP-06 11.5…</td><td>&quot;jnawyn&quot;</td><td>&quot;26-SEP-06 11.5…</td><td>&quot;MISSOURI RIVER…</td><td>&quot;jnawyn&quot;</td><td>&quot;26-SEP-06 11.5…</td><td>&quot;jnawyn&quot;</td><td>&hellip;</td><td>&quot;PH&quot;</td><td>&quot;USCE&quot;</td><td>2010</td><td>null</td><td>&quot;Y&quot;</td><td>&quot;G&quot;</td><td>&quot;W&quot;</td><td>&quot;lleaderc&quot;</td><td>&quot;19-AUG-13 02.4…</td><td>&quot;MGD&quot;</td><td>17176.33684</td><td>&quot;N&quot;</td><td>&quot;Mgal/d&quot;</td><td>&quot;Mgal/d&quot;</td><td>&quot;lleaderc&quot;</td><td>&quot;08/19/13 02:40…</td><td>&quot;lleaderc&quot;</td><td>&quot;19-AUG-13 02.4…</td><td>&quot;N&quot;</td><td>&quot;PH&quot;</td><td>&quot;N&quot;</td><td>777.0</td><td>575.0</td><td>375.0</td><td>663.0</td><td>1252.0</td><td>999.0</td><td>1743.0</td><td>2245.0</td><td>2382.0</td><td>2584.0</td><td>2331.0</td><td>1251.0</td><td>3.068883</td><td>365</td><td>1120.142396</td><td>1.9240e7</td></tr><tr><td>&quot;South Dakota&quot;</td><td>&quot;USGS&quot;</td><td>&quot;94600000099900…</td><td>null</td><td>null</td><td>null</td><td>null</td><td>null</td><td>null</td><td>null</td><td>null</td><td>null</td><td>null</td><td>null</td><td>null</td><td>null</td><td>null</td><td>null</td><td>null</td><td>null</td><td>null</td><td>null</td><td>null</td><td>null</td><td>null</td><td>3</td><td>4911</td><td>null</td><td>null</td><td>&quot;jnawyn&quot;</td><td>&quot;26-SEP-06 11.5…</td><td>&quot;jnawyn&quot;</td><td>&quot;02-OCT-06 01.5…</td><td>null</td><td>null</td><td>null</td><td>null</td><td>&hellip;</td><td>&quot;PH&quot;</td><td>&quot;USCE&quot;</td><td>2010</td><td>null</td><td>&quot;Y&quot;</td><td>&quot;G&quot;</td><td>&quot;W&quot;</td><td>&quot;lleaderc&quot;</td><td>&quot;19-AUG-13 02.4…</td><td>&quot;MGD&quot;</td><td>15360.50165</td><td>&quot;N&quot;</td><td>&quot;Mgal/d&quot;</td><td>&quot;Mgal/d&quot;</td><td>&quot;lleaderc&quot;</td><td>&quot;08/19/13 02:40…</td><td>&quot;lleaderc&quot;</td><td>&quot;19-AUG-13 02.4…</td><td>&quot;N&quot;</td><td>&quot;PH&quot;</td><td>&quot;N&quot;</td><td>978.0</td><td>694.0</td><td>372.0</td><td>540.0</td><td>1046.0</td><td>1049.0</td><td>1375.0</td><td>1763.0</td><td>2083.0</td><td>2093.0</td><td>2007.0</td><td>1360.0</td><td>3.068883</td><td>365</td><td>1120.142396</td><td>1.7206e7</td></tr><tr><td>&quot;South Dakota&quot;</td><td>&quot;USGS&quot;</td><td>&quot;94680000998834…</td><td>null</td><td>null</td><td>null</td><td>null</td><td>null</td><td>null</td><td>null</td><td>null</td><td>null</td><td>null</td><td>null</td><td>null</td><td>null</td><td>null</td><td>null</td><td>null</td><td>null</td><td>null</td><td>null</td><td>null</td><td>null</td><td>null</td><td>3</td><td>4911</td><td>null</td><td>null</td><td>&quot;jnawyn&quot;</td><td>&quot;26-SEP-06 11.5…</td><td>&quot;jnawyn&quot;</td><td>&quot;26-SEP-06 11.5…</td><td>&quot;MISSOURI RIVER…</td><td>&quot;jnawyn&quot;</td><td>&quot;26-SEP-06 11.5…</td><td>&quot;jnawyn&quot;</td><td>&hellip;</td><td>&quot;PH&quot;</td><td>&quot;USCE&quot;</td><td>2010</td><td>null</td><td>&quot;Y&quot;</td><td>&quot;G&quot;</td><td>&quot;W&quot;</td><td>&quot;lleaderc&quot;</td><td>&quot;19-AUG-13 02.4…</td><td>&quot;MGD&quot;</td><td>15360.50165</td><td>&quot;N&quot;</td><td>&quot;Mgal/d&quot;</td><td>&quot;Mgal/d&quot;</td><td>&quot;lleaderc&quot;</td><td>&quot;08/19/13 02:40…</td><td>&quot;lleaderc&quot;</td><td>&quot;19-AUG-13 02.4…</td><td>&quot;N&quot;</td><td>&quot;PH&quot;</td><td>&quot;N&quot;</td><td>978.0</td><td>694.0</td><td>372.0</td><td>540.0</td><td>1046.0</td><td>1049.0</td><td>1375.0</td><td>1763.0</td><td>2083.0</td><td>2093.0</td><td>2007.0</td><td>1360.0</td><td>3.068883</td><td>365</td><td>1120.142396</td><td>1.7206e7</td></tr><tr><td>&quot;South Dakota&quot;</td><td>&quot;USGS&quot;</td><td>&quot;94600000099900…</td><td>null</td><td>null</td><td>null</td><td>null</td><td>null</td><td>null</td><td>null</td><td>null</td><td>null</td><td>null</td><td>null</td><td>null</td><td>null</td><td>null</td><td>null</td><td>null</td><td>null</td><td>null</td><td>null</td><td>null</td><td>null</td><td>null</td><td>3</td><td>4911</td><td>null</td><td>null</td><td>&quot;jnawyn&quot;</td><td>&quot;26-SEP-06 11.5…</td><td>&quot;jnawyn&quot;</td><td>&quot;02-OCT-06 01.5…</td><td>null</td><td>null</td><td>null</td><td>null</td><td>&hellip;</td><td>&quot;PH&quot;</td><td>&quot;USCE&quot;</td><td>2010</td><td>null</td><td>&quot;Y&quot;</td><td>&quot;G&quot;</td><td>&quot;W&quot;</td><td>&quot;lleaderc&quot;</td><td>&quot;19-AUG-13 02.4…</td><td>&quot;MGD&quot;</td><td>14786.46918</td><td>&quot;N&quot;</td><td>&quot;Mgal/d&quot;</td><td>&quot;Mgal/d&quot;</td><td>&quot;lleaderc&quot;</td><td>&quot;08/19/13 02:40…</td><td>&quot;lleaderc&quot;</td><td>&quot;19-AUG-13 02.4…</td><td>&quot;N&quot;</td><td>&quot;PH&quot;</td><td>&quot;N&quot;</td><td>923.0</td><td>721.0</td><td>721.0</td><td>547.0</td><td>986.0</td><td>1031.0</td><td>1270.0</td><td>1623.0</td><td>1930.0</td><td>1908.0</td><td>1894.0</td><td>1232.0</td><td>3.068883</td><td>365</td><td>1120.142396</td><td>1.6563e7</td></tr><tr><td>&quot;South Dakota&quot;</td><td>&quot;USGS&quot;</td><td>&quot;94680000998834…</td><td>null</td><td>null</td><td>null</td><td>null</td><td>null</td><td>null</td><td>null</td><td>null</td><td>null</td><td>null</td><td>null</td><td>null</td><td>null</td><td>null</td><td>null</td><td>null</td><td>null</td><td>null</td><td>null</td><td>null</td><td>null</td><td>null</td><td>3</td><td>4911</td><td>null</td><td>null</td><td>&quot;jnawyn&quot;</td><td>&quot;26-SEP-06 11.5…</td><td>&quot;jnawyn&quot;</td><td>&quot;26-SEP-06 11.5…</td><td>&quot;MISSOURI RIVER…</td><td>&quot;jnawyn&quot;</td><td>&quot;26-SEP-06 11.5…</td><td>&quot;jnawyn&quot;</td><td>&hellip;</td><td>&quot;PH&quot;</td><td>&quot;USCE&quot;</td><td>2010</td><td>null</td><td>&quot;Y&quot;</td><td>&quot;G&quot;</td><td>&quot;W&quot;</td><td>&quot;lleaderc&quot;</td><td>&quot;19-AUG-13 02.4…</td><td>&quot;MGD&quot;</td><td>14786.46918</td><td>&quot;N&quot;</td><td>&quot;Mgal/d&quot;</td><td>&quot;Mgal/d&quot;</td><td>&quot;lleaderc&quot;</td><td>&quot;08/19/13 02:40…</td><td>&quot;lleaderc&quot;</td><td>&quot;19-AUG-13 02.4…</td><td>&quot;N&quot;</td><td>&quot;PH&quot;</td><td>&quot;N&quot;</td><td>923.0</td><td>721.0</td><td>721.0</td><td>547.0</td><td>986.0</td><td>1031.0</td><td>1270.0</td><td>1623.0</td><td>1930.0</td><td>1908.0</td><td>1894.0</td><td>1232.0</td><td>3.068883</td><td>365</td><td>1120.142396</td><td>1.6563e7</td></tr></tbody></table></div>"
      ],
      "text/plain": [
       "shape: (10, 274)\n",
       "┌───────────┬───────────┬───────────┬───────────┬───┬───────────┬───────────┬───────────┬──────────┐\n",
       "│ foia_shee ┆ from_agen ┆ from_site ┆ from_part ┆ … ┆ unit_volu ┆ unit_time ┆ coef_acre ┆ cn_qnty_ │\n",
       "│ t         ┆ cy_cd     ┆ _no       ┆ y_alias_n ┆   ┆ me        ┆ ---       ┆ _feet_yr  ┆ acre_fee │\n",
       "│ ---       ┆ ---       ┆ ---       ┆ m         ┆   ┆ ---       ┆ i64       ┆ ---       ┆ t_yr     │\n",
       "│ str       ┆ str       ┆ str       ┆ ---       ┆   ┆ f64       ┆           ┆ f64       ┆ ---      │\n",
       "│           ┆           ┆           ┆ str       ┆   ┆           ┆           ┆           ┆ f64      │\n",
       "╞═══════════╪═══════════╪═══════════╪═══════════╪═══╪═══════════╪═══════════╪═══════════╪══════════╡\n",
       "│ Colorado  ┆ USEPA     ┆ (b)       ┆ USEPA     ┆ … ┆ 3.068883  ┆ 1         ┆ 3.068883  ┆ 9.9739e8 │\n",
       "│           ┆           ┆ (7)(F)    ┆           ┆   ┆           ┆           ┆           ┆          │\n",
       "│ Georgia   ┆ USGS      ┆ 315040083 ┆ GA009     ┆ … ┆ 3.068883  ┆ 365       ┆ 1120.1423 ┆ 2.5030e7 │\n",
       "│           ┆           ┆ 560002    ┆           ┆   ┆           ┆           ┆ 96        ┆          │\n",
       "│ South     ┆ USGS      ┆ 946000000 ┆ null      ┆ … ┆ 3.068883  ┆ 365       ┆ 1120.1423 ┆ 2.1678e7 │\n",
       "│ Dakota    ┆           ┆ 999004    ┆           ┆   ┆           ┆           ┆ 96        ┆          │\n",
       "│ South     ┆ USGS      ┆ 946800009 ┆ null      ┆ … ┆ 3.068883  ┆ 365       ┆ 1120.1423 ┆ 2.1678e7 │\n",
       "│ Dakota    ┆           ┆ 988346    ┆           ┆   ┆           ┆           ┆ 96        ┆          │\n",
       "│ South     ┆ USGS      ┆ 946000000 ┆ null      ┆ … ┆ 3.068883  ┆ 365       ┆ 1120.1423 ┆ 1.9240e7 │\n",
       "│ Dakota    ┆           ┆ 999003    ┆           ┆   ┆           ┆           ┆ 96        ┆          │\n",
       "│ South     ┆ USGS      ┆ 946800009 ┆ null      ┆ … ┆ 3.068883  ┆ 365       ┆ 1120.1423 ┆ 1.9240e7 │\n",
       "│ Dakota    ┆           ┆ 988345    ┆           ┆   ┆           ┆           ┆ 96        ┆          │\n",
       "│ South     ┆ USGS      ┆ 946000000 ┆ null      ┆ … ┆ 3.068883  ┆ 365       ┆ 1120.1423 ┆ 1.7206e7 │\n",
       "│ Dakota    ┆           ┆ 999001    ┆           ┆   ┆           ┆           ┆ 96        ┆          │\n",
       "│ South     ┆ USGS      ┆ 946800009 ┆ null      ┆ … ┆ 3.068883  ┆ 365       ┆ 1120.1423 ┆ 1.7206e7 │\n",
       "│ Dakota    ┆           ┆ 988343    ┆           ┆   ┆           ┆           ┆ 96        ┆          │\n",
       "│ South     ┆ USGS      ┆ 946000000 ┆ null      ┆ … ┆ 3.068883  ┆ 365       ┆ 1120.1423 ┆ 1.6563e7 │\n",
       "│ Dakota    ┆           ┆ 999002    ┆           ┆   ┆           ┆           ┆ 96        ┆          │\n",
       "│ South     ┆ USGS      ┆ 946800009 ┆ null      ┆ … ┆ 3.068883  ┆ 365       ┆ 1120.1423 ┆ 1.6563e7 │\n",
       "│ Dakota    ┆           ┆ 988344    ┆           ┆   ┆           ┆           ┆ 96        ┆          │\n",
       "└───────────┴───────────┴───────────┴───────────┴───┴───────────┴───────────┴───────────┴──────────┘"
      ]
     },
     "execution_count": 17,
     "metadata": {},
     "output_type": "execute_result"
    }
   ],
   "source": [
    "(\n",
    "    records\n",
    "    .filter(~pl.col(\"cn_qnty_yr_va\").is_null())\n",
    "    .pipe(with_unit_conversion)\n",
    "    .sort(\"cn_qnty_acre_feet_yr\", descending=True)\n",
    "    .head(10)\n",
    "    .pipe(save, \"largest-quantities-unitless\")\n",
    ")"
   ]
  },
  {
   "cell_type": "markdown",
   "id": "ff6fcfc2-f70d-44cf-a0df-168b6adce12f",
   "metadata": {},
   "source": [
    "---\n",
    "\n",
    "---\n",
    "\n",
    "---"
   ]
  }
 ],
 "metadata": {
  "kernelspec": {
   "display_name": "Python 3 (ipykernel)",
   "language": "python",
   "name": "python3"
  },
  "language_info": {
   "codemirror_mode": {
    "name": "ipython",
    "version": 3
   },
   "file_extension": ".py",
   "mimetype": "text/x-python",
   "name": "python",
   "nbconvert_exporter": "python",
   "pygments_lexer": "ipython3",
   "version": "3.10.4"
  }
 },
 "nbformat": 4,
 "nbformat_minor": 5
}
